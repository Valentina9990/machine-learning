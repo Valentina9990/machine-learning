{
 "cells": [
  {
   "cell_type": "code",
   "execution_count": 21,
   "id": "initial_id",
   "metadata": {
    "ExecuteTime": {
     "end_time": "2024-05-26T01:28:02.149849Z",
     "start_time": "2024-05-26T01:28:02.145737Z"
    }
   },
   "outputs": [],
   "source": [
    "import nltk\n",
    "# packages\n",
    "\n",
    "# standard\n",
    "import numpy as np\n",
    "import pandas as pd\n",
    "import time \n",
    "import re\n",
    "from bs4 import BeautifulSoup\n",
    "\n",
    "# plots\n",
    "import matplotlib.pyplot as plt\n",
    "import seaborn as sns\n",
    "from wordcloud import WordCloud\n",
    "\n",
    "# string functions\n",
    "import string\n",
    "from collections import Counter\n",
    "\n",
    "\n",
    "# NLTK\n",
    "import nltk\n",
    "from nltk import word_tokenize, bigrams\n",
    "from nltk.corpus import stopwords\n",
    "from nltk.stem.porter import PorterStemmer\n",
    "\n",
    "# sklearn\n",
    "from sklearn.feature_extraction.text import TfidfVectorizer\n",
    "from sklearn.model_selection import train_test_split\n",
    "from sklearn.neighbors import KNeighborsClassifier\n",
    "from sklearn.ensemble import RandomForestClassifier, VotingClassifier\n",
    "from sklearn.naive_bayes import MultinomialNB\n",
    "from sklearn.svm import SVC\n",
    "from sklearn.utils import resample\n",
    "from sklearn.feature_extraction.text import CountVectorizer\n",
    "from sklearn.metrics import accuracy_score, classification_report, confusion_matrix\n",
    "from sklearn.linear_model import LogisticRegression\n",
    "from sklearn.tree import DecisionTreeClassifier\n"
   ]
  },
  {
   "cell_type": "code",
   "execution_count": 2,
   "id": "77a127f39d0183af",
   "metadata": {
    "ExecuteTime": {
     "end_time": "2024-05-26T00:38:17.453068Z",
     "start_time": "2024-05-26T00:38:17.010550Z"
    },
    "collapsed": false,
    "jupyter": {
     "outputs_hidden": false
    }
   },
   "outputs": [
    {
     "data": {
      "text/html": [
       "<div>\n",
       "<style scoped>\n",
       "    .dataframe tbody tr th:only-of-type {\n",
       "        vertical-align: middle;\n",
       "    }\n",
       "\n",
       "    .dataframe tbody tr th {\n",
       "        vertical-align: top;\n",
       "    }\n",
       "\n",
       "    .dataframe thead th {\n",
       "        text-align: right;\n",
       "    }\n",
       "</style>\n",
       "<table border=\"1\" class=\"dataframe\">\n",
       "  <thead>\n",
       "    <tr style=\"text-align: right;\">\n",
       "      <th></th>\n",
       "      <th>text</th>\n",
       "      <th>label</th>\n",
       "      <th>Age</th>\n",
       "      <th>Gender</th>\n",
       "      <th>Age Category</th>\n",
       "    </tr>\n",
       "  </thead>\n",
       "  <tbody>\n",
       "    <tr>\n",
       "      <th>0</th>\n",
       "      <td>let Gather For Party</td>\n",
       "      <td>0.0</td>\n",
       "      <td>16.0</td>\n",
       "      <td>Male</td>\n",
       "      <td>Teen Age</td>\n",
       "    </tr>\n",
       "    <tr>\n",
       "      <th>1</th>\n",
       "      <td>I hate being alive when I feel so dead inside.</td>\n",
       "      <td>1.0</td>\n",
       "      <td>17.0</td>\n",
       "      <td>Female</td>\n",
       "      <td>Teen Age</td>\n",
       "    </tr>\n",
       "    <tr>\n",
       "      <th>2</th>\n",
       "      <td>Exam are Comimg I  m already  Feeling Very Dep...</td>\n",
       "      <td>1.0</td>\n",
       "      <td>16.0</td>\n",
       "      <td>Male</td>\n",
       "      <td>Teen Age</td>\n",
       "    </tr>\n",
       "    <tr>\n",
       "      <th>3</th>\n",
       "      <td>Nice picture</td>\n",
       "      <td>0.0</td>\n",
       "      <td>16.0</td>\n",
       "      <td>Male</td>\n",
       "      <td>Teen Age</td>\n",
       "    </tr>\n",
       "    <tr>\n",
       "      <th>4</th>\n",
       "      <td>Feeling worried, even though you actually have...</td>\n",
       "      <td>1.0</td>\n",
       "      <td>16.0</td>\n",
       "      <td>Male</td>\n",
       "      <td>Teen Age</td>\n",
       "    </tr>\n",
       "    <tr>\n",
       "      <th>5</th>\n",
       "      <td>There are people who died, their friends didn'...</td>\n",
       "      <td>0.0</td>\n",
       "      <td>16.0</td>\n",
       "      <td>Male</td>\n",
       "      <td>Teen Age</td>\n",
       "    </tr>\n",
       "    <tr>\n",
       "      <th>6</th>\n",
       "      <td>keep it up hahaha</td>\n",
       "      <td>0.0</td>\n",
       "      <td>16.0</td>\n",
       "      <td>Male</td>\n",
       "      <td>Teen Age</td>\n",
       "    </tr>\n",
       "    <tr>\n",
       "      <th>7</th>\n",
       "      <td>The match cycle I had.Buy-brought-out-lost.</td>\n",
       "      <td>0.0</td>\n",
       "      <td>16.0</td>\n",
       "      <td>Male</td>\n",
       "      <td>Teen Age</td>\n",
       "    </tr>\n",
       "    <tr>\n",
       "      <th>8</th>\n",
       "      <td>nctb! jewel case dream, which doesn't have a p...</td>\n",
       "      <td>0.0</td>\n",
       "      <td>16.0</td>\n",
       "      <td>Male</td>\n",
       "      <td>Teen Age</td>\n",
       "    </tr>\n",
       "    <tr>\n",
       "      <th>9</th>\n",
       "      <td>college but it's like not going to college, bu...</td>\n",
       "      <td>0.0</td>\n",
       "      <td>16.0</td>\n",
       "      <td>Male</td>\n",
       "      <td>Teen Age</td>\n",
       "    </tr>\n",
       "  </tbody>\n",
       "</table>\n",
       "</div>"
      ],
      "text/plain": [
       "                                                text  label   Age  Gender  \\\n",
       "0                               let Gather For Party    0.0  16.0    Male   \n",
       "1    I hate being alive when I feel so dead inside.     1.0  17.0  Female   \n",
       "2  Exam are Comimg I  m already  Feeling Very Dep...    1.0  16.0    Male   \n",
       "3                                       Nice picture    0.0  16.0    Male   \n",
       "4  Feeling worried, even though you actually have...    1.0  16.0    Male   \n",
       "5  There are people who died, their friends didn'...    0.0  16.0    Male   \n",
       "6                                  keep it up hahaha    0.0  16.0    Male   \n",
       "7        The match cycle I had.Buy-brought-out-lost.    0.0  16.0    Male   \n",
       "8  nctb! jewel case dream, which doesn't have a p...    0.0  16.0    Male   \n",
       "9  college but it's like not going to college, bu...    0.0  16.0    Male   \n",
       "\n",
       "  Age Category  \n",
       "0     Teen Age  \n",
       "1     Teen Age  \n",
       "2     Teen Age  \n",
       "3     Teen Age  \n",
       "4     Teen Age  \n",
       "5     Teen Age  \n",
       "6     Teen Age  \n",
       "7     Teen Age  \n",
       "8     Teen Age  \n",
       "9     Teen Age  "
      ]
     },
     "execution_count": 2,
     "metadata": {},
     "output_type": "execute_result"
    }
   ],
   "source": [
    "df = pd.read_excel('./Depression_Text.xlsx')\n",
    "df.head(10)"
   ]
  },
  {
   "cell_type": "code",
   "execution_count": 3,
   "id": "497052ad100a81cb",
   "metadata": {
    "ExecuteTime": {
     "end_time": "2024-05-26T00:38:17.465573Z",
     "start_time": "2024-05-26T00:38:17.451404Z"
    },
    "collapsed": false,
    "jupyter": {
     "outputs_hidden": false
    }
   },
   "outputs": [
    {
     "data": {
      "text/plain": [
       "Index(['text', 'label', 'Age', 'Gender', 'Age Category'], dtype='object')"
      ]
     },
     "execution_count": 3,
     "metadata": {},
     "output_type": "execute_result"
    }
   ],
   "source": [
    "df.columns"
   ]
  },
  {
   "cell_type": "markdown",
   "id": "702bb4c6250b55ec",
   "metadata": {
    "collapsed": false,
    "jupyter": {
     "outputs_hidden": false
    }
   },
   "source": []
  },
  {
   "cell_type": "code",
   "execution_count": 4,
   "id": "92b56ddc063501f8",
   "metadata": {
    "ExecuteTime": {
     "end_time": "2024-05-26T00:38:17.485920Z",
     "start_time": "2024-05-26T00:38:17.457639Z"
    },
    "collapsed": false,
    "jupyter": {
     "outputs_hidden": false
    }
   },
   "outputs": [
    {
     "name": "stdout",
     "output_type": "stream",
     "text": [
      "Cantidad de datos y columnas del dataset:\n"
     ]
    },
    {
     "data": {
      "text/plain": [
       "(7489, 5)"
      ]
     },
     "execution_count": 4,
     "metadata": {},
     "output_type": "execute_result"
    }
   ],
   "source": [
    "print(\"Cantidad de datos y columnas del dataset:\")\n",
    "df.shape"
   ]
  },
  {
   "cell_type": "code",
   "execution_count": 5,
   "id": "b417b260f63f1561",
   "metadata": {
    "ExecuteTime": {
     "end_time": "2024-05-26T00:38:17.552645Z",
     "start_time": "2024-05-26T00:38:17.468881Z"
    },
    "collapsed": false,
    "jupyter": {
     "outputs_hidden": false
    }
   },
   "outputs": [
    {
     "name": "stdout",
     "output_type": "stream",
     "text": [
      "<class 'pandas.core.frame.DataFrame'>\n",
      "RangeIndex: 7489 entries, 0 to 7488\n",
      "Data columns (total 5 columns):\n",
      " #   Column        Non-Null Count  Dtype  \n",
      "---  ------        --------------  -----  \n",
      " 0   text          7476 non-null   object \n",
      " 1   label         7486 non-null   float64\n",
      " 2   Age           7486 non-null   float64\n",
      " 3   Gender        7486 non-null   object \n",
      " 4   Age Category  7486 non-null   object \n",
      "dtypes: float64(2), object(3)\n",
      "memory usage: 292.7+ KB\n"
     ]
    }
   ],
   "source": [
    "df.info()"
   ]
  },
  {
   "cell_type": "markdown",
   "id": "49094da4f0761f37",
   "metadata": {
    "collapsed": false,
    "jupyter": {
     "outputs_hidden": false
    }
   },
   "source": []
  },
  {
   "cell_type": "code",
   "execution_count": 6,
   "id": "a92ed3fb722faa2f",
   "metadata": {
    "ExecuteTime": {
     "end_time": "2024-05-26T00:38:17.594656Z",
     "start_time": "2024-05-26T00:38:17.480077Z"
    },
    "collapsed": false,
    "jupyter": {
     "outputs_hidden": false
    }
   },
   "outputs": [
    {
     "name": "stdout",
     "output_type": "stream",
     "text": [
      "Informacion de las variables numericas del dataset (label y age)\n"
     ]
    },
    {
     "data": {
      "text/html": [
       "<div>\n",
       "<style scoped>\n",
       "    .dataframe tbody tr th:only-of-type {\n",
       "        vertical-align: middle;\n",
       "    }\n",
       "\n",
       "    .dataframe tbody tr th {\n",
       "        vertical-align: top;\n",
       "    }\n",
       "\n",
       "    .dataframe thead th {\n",
       "        text-align: right;\n",
       "    }\n",
       "</style>\n",
       "<table border=\"1\" class=\"dataframe\">\n",
       "  <thead>\n",
       "    <tr style=\"text-align: right;\">\n",
       "      <th></th>\n",
       "      <th>label</th>\n",
       "      <th>Age</th>\n",
       "    </tr>\n",
       "  </thead>\n",
       "  <tbody>\n",
       "    <tr>\n",
       "      <th>count</th>\n",
       "      <td>7486.000000</td>\n",
       "      <td>7486.000000</td>\n",
       "    </tr>\n",
       "    <tr>\n",
       "      <th>mean</th>\n",
       "      <td>0.163906</td>\n",
       "      <td>15.379108</td>\n",
       "    </tr>\n",
       "    <tr>\n",
       "      <th>std</th>\n",
       "      <td>0.370215</td>\n",
       "      <td>1.058104</td>\n",
       "    </tr>\n",
       "    <tr>\n",
       "      <th>min</th>\n",
       "      <td>0.000000</td>\n",
       "      <td>13.000000</td>\n",
       "    </tr>\n",
       "    <tr>\n",
       "      <th>25%</th>\n",
       "      <td>0.000000</td>\n",
       "      <td>14.000000</td>\n",
       "    </tr>\n",
       "    <tr>\n",
       "      <th>50%</th>\n",
       "      <td>0.000000</td>\n",
       "      <td>15.000000</td>\n",
       "    </tr>\n",
       "    <tr>\n",
       "      <th>75%</th>\n",
       "      <td>0.000000</td>\n",
       "      <td>16.000000</td>\n",
       "    </tr>\n",
       "    <tr>\n",
       "      <th>max</th>\n",
       "      <td>1.000000</td>\n",
       "      <td>17.000000</td>\n",
       "    </tr>\n",
       "  </tbody>\n",
       "</table>\n",
       "</div>"
      ],
      "text/plain": [
       "             label          Age\n",
       "count  7486.000000  7486.000000\n",
       "mean      0.163906    15.379108\n",
       "std       0.370215     1.058104\n",
       "min       0.000000    13.000000\n",
       "25%       0.000000    14.000000\n",
       "50%       0.000000    15.000000\n",
       "75%       0.000000    16.000000\n",
       "max       1.000000    17.000000"
      ]
     },
     "execution_count": 6,
     "metadata": {},
     "output_type": "execute_result"
    }
   ],
   "source": [
    "print(\"Informacion de las variables numericas del dataset (label y age)\")\n",
    "df.describe()"
   ]
  },
  {
   "cell_type": "code",
   "execution_count": 7,
   "id": "713e315a164ad45e",
   "metadata": {
    "ExecuteTime": {
     "end_time": "2024-05-26T00:38:17.636769Z",
     "start_time": "2024-05-26T00:38:17.484928Z"
    },
    "collapsed": false,
    "jupyter": {
     "outputs_hidden": false
    }
   },
   "outputs": [
    {
     "name": "stdout",
     "output_type": "stream",
     "text": [
      "Informacion de todas las variables incluyendo las no numericas\n"
     ]
    },
    {
     "data": {
      "text/html": [
       "<div>\n",
       "<style scoped>\n",
       "    .dataframe tbody tr th:only-of-type {\n",
       "        vertical-align: middle;\n",
       "    }\n",
       "\n",
       "    .dataframe tbody tr th {\n",
       "        vertical-align: top;\n",
       "    }\n",
       "\n",
       "    .dataframe thead th {\n",
       "        text-align: right;\n",
       "    }\n",
       "</style>\n",
       "<table border=\"1\" class=\"dataframe\">\n",
       "  <thead>\n",
       "    <tr style=\"text-align: right;\">\n",
       "      <th></th>\n",
       "      <th>text</th>\n",
       "      <th>Gender</th>\n",
       "      <th>Age Category</th>\n",
       "    </tr>\n",
       "  </thead>\n",
       "  <tbody>\n",
       "    <tr>\n",
       "      <th>count</th>\n",
       "      <td>7476</td>\n",
       "      <td>7486</td>\n",
       "      <td>7486</td>\n",
       "    </tr>\n",
       "    <tr>\n",
       "      <th>unique</th>\n",
       "      <td>7370</td>\n",
       "      <td>2</td>\n",
       "      <td>2</td>\n",
       "    </tr>\n",
       "    <tr>\n",
       "      <th>top</th>\n",
       "      <td>ni-ki best boy</td>\n",
       "      <td>Male</td>\n",
       "      <td>Young Age</td>\n",
       "    </tr>\n",
       "    <tr>\n",
       "      <th>freq</th>\n",
       "      <td>11</td>\n",
       "      <td>4062</td>\n",
       "      <td>3974</td>\n",
       "    </tr>\n",
       "  </tbody>\n",
       "</table>\n",
       "</div>"
      ],
      "text/plain": [
       "                  text Gender Age Category\n",
       "count             7476   7486         7486\n",
       "unique            7370      2            2\n",
       "top     ni-ki best boy   Male    Young Age\n",
       "freq                11   4062         3974"
      ]
     },
     "execution_count": 7,
     "metadata": {},
     "output_type": "execute_result"
    }
   ],
   "source": [
    "print(\"Informacion de todas las variables incluyendo las no numericas\")\n",
    "df.describe(include=object)"
   ]
  },
  {
   "cell_type": "code",
   "execution_count": 8,
   "id": "ff673188808ce7b8",
   "metadata": {
    "ExecuteTime": {
     "end_time": "2024-05-26T00:38:17.667087Z",
     "start_time": "2024-05-26T00:38:17.500738Z"
    },
    "collapsed": false,
    "jupyter": {
     "outputs_hidden": false
    }
   },
   "outputs": [
    {
     "data": {
      "text/html": [
       "<div>\n",
       "<style scoped>\n",
       "    .dataframe tbody tr th:only-of-type {\n",
       "        vertical-align: middle;\n",
       "    }\n",
       "\n",
       "    .dataframe tbody tr th {\n",
       "        vertical-align: top;\n",
       "    }\n",
       "\n",
       "    .dataframe thead th {\n",
       "        text-align: right;\n",
       "    }\n",
       "</style>\n",
       "<table border=\"1\" class=\"dataframe\">\n",
       "  <thead>\n",
       "    <tr style=\"text-align: right;\">\n",
       "      <th></th>\n",
       "      <th>0</th>\n",
       "    </tr>\n",
       "  </thead>\n",
       "  <tbody>\n",
       "    <tr>\n",
       "      <th>text</th>\n",
       "      <td>13</td>\n",
       "    </tr>\n",
       "    <tr>\n",
       "      <th>label</th>\n",
       "      <td>3</td>\n",
       "    </tr>\n",
       "    <tr>\n",
       "      <th>Age</th>\n",
       "      <td>3</td>\n",
       "    </tr>\n",
       "    <tr>\n",
       "      <th>Gender</th>\n",
       "      <td>3</td>\n",
       "    </tr>\n",
       "    <tr>\n",
       "      <th>Age Category</th>\n",
       "      <td>3</td>\n",
       "    </tr>\n",
       "  </tbody>\n",
       "</table>\n",
       "</div>"
      ],
      "text/plain": [
       "               0\n",
       "text          13\n",
       "label          3\n",
       "Age            3\n",
       "Gender         3\n",
       "Age Category   3"
      ]
     },
     "execution_count": 8,
     "metadata": {},
     "output_type": "execute_result"
    }
   ],
   "source": [
    "df.isna().sum().to_frame()"
   ]
  },
  {
   "cell_type": "markdown",
   "id": "9adeccfd8e010ae0",
   "metadata": {
    "collapsed": false,
    "jupyter": {
     "outputs_hidden": false
    }
   },
   "source": [
    "#### Hay datos nulos en el dataset, como son pocos se procede a eliminar las filas que los tienen\n"
   ]
  },
  {
   "cell_type": "code",
   "execution_count": 9,
   "id": "631d242992edf49e",
   "metadata": {
    "ExecuteTime": {
     "end_time": "2024-05-26T00:38:17.771613Z",
     "start_time": "2024-05-26T00:38:17.513829Z"
    },
    "collapsed": false,
    "jupyter": {
     "outputs_hidden": false
    }
   },
   "outputs": [
    {
     "data": {
      "text/html": [
       "<div>\n",
       "<style scoped>\n",
       "    .dataframe tbody tr th:only-of-type {\n",
       "        vertical-align: middle;\n",
       "    }\n",
       "\n",
       "    .dataframe tbody tr th {\n",
       "        vertical-align: top;\n",
       "    }\n",
       "\n",
       "    .dataframe thead th {\n",
       "        text-align: right;\n",
       "    }\n",
       "</style>\n",
       "<table border=\"1\" class=\"dataframe\">\n",
       "  <thead>\n",
       "    <tr style=\"text-align: right;\">\n",
       "      <th></th>\n",
       "      <th>0</th>\n",
       "    </tr>\n",
       "  </thead>\n",
       "  <tbody>\n",
       "    <tr>\n",
       "      <th>text</th>\n",
       "      <td>0</td>\n",
       "    </tr>\n",
       "    <tr>\n",
       "      <th>label</th>\n",
       "      <td>0</td>\n",
       "    </tr>\n",
       "    <tr>\n",
       "      <th>Age</th>\n",
       "      <td>0</td>\n",
       "    </tr>\n",
       "    <tr>\n",
       "      <th>Gender</th>\n",
       "      <td>0</td>\n",
       "    </tr>\n",
       "    <tr>\n",
       "      <th>Age Category</th>\n",
       "      <td>0</td>\n",
       "    </tr>\n",
       "  </tbody>\n",
       "</table>\n",
       "</div>"
      ],
      "text/plain": [
       "              0\n",
       "text          0\n",
       "label         0\n",
       "Age           0\n",
       "Gender        0\n",
       "Age Category  0"
      ]
     },
     "execution_count": 9,
     "metadata": {},
     "output_type": "execute_result"
    }
   ],
   "source": [
    "df.dropna(axis=0, inplace=True)\n",
    "df.isna().sum().to_frame()"
   ]
  },
  {
   "cell_type": "code",
   "execution_count": 10,
   "id": "951ef5dce791007d",
   "metadata": {
    "ExecuteTime": {
     "end_time": "2024-05-26T00:38:17.796264Z",
     "start_time": "2024-05-26T00:38:17.523763Z"
    },
    "collapsed": false,
    "jupyter": {
     "outputs_hidden": false
    }
   },
   "outputs": [
    {
     "data": {
      "text/plain": [
       "label\n",
       "0.0    6252\n",
       "1.0    1224\n",
       "Name: count, dtype: int64"
      ]
     },
     "execution_count": 10,
     "metadata": {},
     "output_type": "execute_result"
    }
   ],
   "source": [
    "df['label'].value_counts()"
   ]
  },
  {
   "cell_type": "markdown",
   "id": "cada1875721c78ca",
   "metadata": {
    "collapsed": false,
    "jupyter": {
     "outputs_hidden": false
    }
   },
   "source": [
    "# Visualizacion de los datos"
   ]
  },
  {
   "cell_type": "code",
   "execution_count": 11,
   "id": "8492061f171b0f2d",
   "metadata": {
    "ExecuteTime": {
     "end_time": "2024-05-26T00:38:18.068453Z",
     "start_time": "2024-05-26T00:38:17.529346Z"
    },
    "collapsed": false,
    "jupyter": {
     "outputs_hidden": false
    }
   },
   "outputs": [
    {
     "name": "stderr",
     "output_type": "stream",
     "text": [
      "C:\\ProgramData\\anaconda3\\Lib\\site-packages\\seaborn\\_oldcore.py:1119: FutureWarning: use_inf_as_na option is deprecated and will be removed in a future version. Convert inf values to NaN before operating instead.\n",
      "  with pd.option_context('mode.use_inf_as_na', True):\n"
     ]
    },
    {
     "data": {
      "text/plain": [
       "Text(-3.9305555555555554, 0.5, 'Frecuencia')"
      ]
     },
     "execution_count": 11,
     "metadata": {},
     "output_type": "execute_result"
    },
    {
     "data": {
      "image/png": "[encoded data removed]",
      "text/plain": [
       "<Figure size 500x500 with 1 Axes>"
      ]
     },
     "metadata": {},
     "output_type": "display_data"
    }
   ],
   "source": [
    "sns.displot(df['Age'].dropna())\n",
    "plt.title('Distribucion de las edades')\n",
    "plt.ylabel('Frecuencia')"
   ]
  },
  {
   "cell_type": "code",
   "execution_count": 12,
   "id": "8bddfdbd61930fb2",
   "metadata": {
    "ExecuteTime": {
     "end_time": "2024-05-26T00:38:18.112404Z",
     "start_time": "2024-05-26T00:38:17.808749Z"
    },
    "collapsed": false,
    "jupyter": {
     "outputs_hidden": false
    }
   },
   "outputs": [
    {
     "data": {
      "image/png": "[encoded data removed]",
      "text/plain": [
       "<Figure size 640x480 with 1 Axes>"
      ]
     },
     "metadata": {},
     "output_type": "display_data"
    }
   ],
   "source": [
    "df['Age'].value_counts().plot.pie(autopct='%1.1f%%', colors=['#0080ff','#6aa6f8','#9dc8fb','#c1e0fd'])\n",
    "plt.show()"
   ]
  },
  {
   "cell_type": "code",
   "execution_count": 13,
   "id": "2bc98744ff513c34",
   "metadata": {
    "ExecuteTime": {
     "end_time": "2024-05-26T00:38:18.230680Z",
     "start_time": "2024-05-26T00:38:17.900359Z"
    },
    "collapsed": false,
    "jupyter": {
     "outputs_hidden": false
    }
   },
   "outputs": [
    {
     "data": {
      "image/png": "[encoded data removed]",
      "text/plain": [
       "<Figure size 640x480 with 1 Axes>"
      ]
     },
     "metadata": {},
     "output_type": "display_data"
    }
   ],
   "source": [
    "sns.countplot(x='label', hue='Age Category', data=df, palette='Blues')\n",
    "plt.title('Relacion entre label y Categoria de edad')\n",
    "plt.show()"
   ]
  },
  {
   "cell_type": "code",
   "execution_count": 14,
   "id": "dbe9b38ab582ac99",
   "metadata": {
    "ExecuteTime": {
     "end_time": "2024-05-26T00:38:18.457408Z",
     "start_time": "2024-05-26T00:38:18.025408Z"
    },
    "collapsed": false,
    "jupyter": {
     "outputs_hidden": false
    }
   },
   "outputs": [
    {
     "data": {
      "image/png": "[encoded data removed]",
      "text/plain": [
       "<Figure size 640x480 with 1 Axes>"
      ]
     },
     "metadata": {},
     "output_type": "display_data"
    }
   ],
   "source": [
    "sns.countplot(x='Gender', hue='Age Category', data=df, palette='Blues')\n",
    "plt.title('Relacion entre Genero y Edad')\n",
    "plt.show()"
   ]
  },
  {
   "cell_type": "code",
   "execution_count": 15,
   "id": "b00be98c85c884a9",
   "metadata": {
    "ExecuteTime": {
     "end_time": "2024-05-26T00:38:18.610504Z",
     "start_time": "2024-05-26T00:38:18.194046Z"
    },
    "collapsed": false,
    "jupyter": {
     "outputs_hidden": false
    }
   },
   "outputs": [
    {
     "data": {
      "image/png": "[encoded data removed]",
      "text/plain": [
       "<Figure size 4540x1362 with 2 Axes>"
      ]
     },
     "metadata": {},
     "output_type": "display_data"
    }
   ],
   "source": [
    "labels = [0, 1]\n",
    "sizes = [6240, 730]\n",
    "custom_colours = ['#6495ED', '#6AA6F8']\n",
    "\n",
    "plt.figure(figsize=(20, 6), dpi=227)\n",
    "plt.subplot(1, 2, 1)\n",
    "plt.pie(sizes, labels = labels, textprops={'fontsize': 15}, startangle=140, \n",
    "       autopct='%1.0f%%', colors=custom_colours, explode=[0, 0.05])\n",
    "\n",
    "plt.subplot(1, 2, 2)\n",
    "sns.barplot(x = df['label'].unique(), y = df['label'].value_counts())\n",
    "\n",
    "plt.show()"
   ]
  },
  {
   "cell_type": "code",
   "execution_count": 16,
   "id": "8ec66be69ae14d46",
   "metadata": {
    "ExecuteTime": {
     "end_time": "2024-05-26T00:38:19.036290Z",
     "start_time": "2024-05-26T00:38:18.602827Z"
    },
    "collapsed": false,
    "jupyter": {
     "outputs_hidden": false
    }
   },
   "outputs": [
    {
     "data": {
      "image/png": "[encoded data removed]",
      "text/plain": [
       "<Figure size 640x480 with 1 Axes>"
      ]
     },
     "metadata": {},
     "output_type": "display_data"
    }
   ],
   "source": [
    "df.label.value_counts().plot(kind='bar')\n",
    "plt.title('Label distribution: 1 -anxiety/depression')\n",
    "plt.grid()\n",
    "plt.show()"
   ]
  },
  {
   "cell_type": "code",
   "execution_count": 17,
   "id": "58c643978fab6140",
   "metadata": {
    "ExecuteTime": {
     "end_time": "2024-05-26T00:38:19.074851Z",
     "start_time": "2024-05-26T00:38:18.691135Z"
    },
    "collapsed": false,
    "jupyter": {
     "outputs_hidden": false
    }
   },
   "outputs": [],
   "source": [
    "def text_transformation(text):\n",
    "    text = text.lower()\n",
    "    text = re.sub('\\[.*?\\]', '', text)\n",
    "    text = re.sub(\"\\\\W\",\" \",text) \n",
    "    text = re.sub('https?://\\S+|www\\.\\S+', '', text)\n",
    "    text = re.sub('<.*?>+', '', text)\n",
    "    text = re.sub('[%s]' % re.escape(string.punctuation), '', text)\n",
    "    text = re.sub('\\n', '', text)\n",
    "    text = re.sub('\\w*\\d\\w*', '', text)    \n",
    "    return text"
   ]
  },
  {
   "cell_type": "code",
   "execution_count": 18,
   "id": "e3a12227c7a9f2c7",
   "metadata": {
    "ExecuteTime": {
     "end_time": "2024-05-26T00:38:19.080655Z",
     "start_time": "2024-05-26T00:38:18.696782Z"
    },
    "collapsed": false,
    "jupyter": {
     "outputs_hidden": false
    }
   },
   "outputs": [],
   "source": [
    "contraction_mapping = {\"ain't\": \"is not\", \"aren't\": \"are not\",\"can't\": \"cannot\", \"'cause\": \"because\", \"could've\": \"could have\", \"couldn't\": \"could not\",\n",
    "                           \"didn't\": \"did not\",  \"doesn't\": \"does not\", \"don't\": \"do not\", \"hadn't\": \"had not\", \"hasn't\": \"has not\", \"haven't\": \"have not\",\n",
    "                           \"he'd\": \"he would\",\"he'll\": \"he will\", \"he's\": \"he is\", \"how'd\": \"how did\", \"how'd'y\": \"how do you\", \"how'll\": \"how will\", \"how's\": \"how is\",\n",
    "                           \"I'd\": \"I would\", \"I'd've\": \"I would have\", \"I'll\": \"I will\", \"I'll've\": \"I will have\",\"I'm\": \"I am\", \"I've\": \"I have\", \"i'd\": \"i would\",\n",
    "                           \"i'd've\": \"i would have\", \"i'll\": \"i will\",  \"i'll've\": \"i will have\",\"i'm\": \"i am\", \"i've\": \"i have\", \"isn't\": \"is not\", \"it'd\": \"it would\",\n",
    "                           \"it'd've\": \"it would have\", \"it'll\": \"it will\", \"it'll've\": \"it will have\",\"it's\": \"it is\", \"let's\": \"let us\", \"ma'am\": \"madam\",\n",
    "                           \"mayn't\": \"may not\", \"might've\": \"might have\",\"mightn't\": \"might not\",\"mightn't've\": \"might not have\", \"must've\": \"must have\",\n",
    "                           \"mustn't\": \"must not\", \"mustn't've\": \"must not have\", \"needn't\": \"need not\", \"needn't've\": \"need not have\",\"o'clock\": \"of the clock\",\n",
    "                           \"oughtn't\": \"ought not\", \"oughtn't've\": \"ought not have\", \"shan't\": \"shall not\", \"sha'n't\": \"shall not\", \"shan't've\": \"shall not have\",\n",
    "                           \"she'd\": \"she would\", \"she'd've\": \"she would have\", \"she'll\": \"she will\", \"she'll've\": \"she will have\", \"she's\": \"she is\",\n",
    "                           \"should've\": \"should have\", \"shouldn't\": \"should not\", \"shouldn't've\": \"should not have\", \"so've\": \"so have\",\"so's\": \"so as\",\n",
    "                           \"this's\": \"this is\",\"that'd\": \"that would\", \"that'd've\": \"that would have\", \"that's\": \"that is\", \"there'd\": \"there would\",\n",
    "                           \"there'd've\": \"there would have\", \"there's\": \"there is\", \"here's\": \"here is\",\"they'd\": \"they would\", \"they'd've\": \"they would have\",\n",
    "                           \"they'll\": \"they will\", \"they'll've\": \"they will have\", \"they're\": \"they are\", \"they've\": \"they have\", \"to've\": \"to have\",\n",
    "                           \"wasn't\": \"was not\", \"we'd\": \"we would\", \"we'd've\": \"we would have\", \"we'll\": \"we will\", \"we'll've\": \"we will have\", \"we're\": \"we are\",\n",
    "                           \"we've\": \"we have\", \"weren't\": \"were not\", \"what'll\": \"what will\", \"what'll've\": \"what will have\", \"what're\": \"what are\",\n",
    "                           \"what's\": \"what is\", \"what've\": \"what have\", \"when's\": \"when is\", \"when've\": \"when have\", \"where'd\": \"where did\", \"where's\": \"where is\",\n",
    "                           \"where've\": \"where have\", \"who'll\": \"who will\", \"who'll've\": \"who will have\", \"who's\": \"who is\", \"who've\": \"who have\",\n",
    "                           \"why's\": \"why is\", \"why've\": \"why have\", \"will've\": \"will have\", \"won't\": \"will not\", \"won't've\": \"will not have\",\n",
    "                           \"would've\": \"would have\", \"wouldn't\": \"would not\", \"wouldn't've\": \"would not have\", \"y'all\": \"you all\",\n",
    "                           \"y'all'd\": \"you all would\",\"y'all'd've\": \"you all would have\",\"y'all're\": \"you all are\",\"y'all've\": \"you all have\",\n",
    "                           \"you'd\": \"you would\", \"you'd've\": \"you would have\", \"you'll\": \"you will\", \"you'll've\": \"you will have\",\n",
    "                           \"you're\": \"you are\", \"you've\": \"you have\"}"
   ]
  },
  {
   "cell_type": "code",
   "execution_count": 19,
   "id": "1e59b7d5c3b1f6a3",
   "metadata": {
    "ExecuteTime": {
     "end_time": "2024-05-26T00:44:14.104958Z",
     "start_time": "2024-05-26T00:44:14.081312Z"
    },
    "collapsed": false,
    "jupyter": {
     "outputs_hidden": false
    }
   },
   "outputs": [],
   "source": [
    "def text_cleaner(text):\n",
    "    new_string = text.lower()\n",
    "    new_string = BeautifulSoup(new_string, \"lxml\").text\n",
    "    new_string = re.sub(r'\\([^)]*\\)', '', new_string)\n",
    "    new_string = re.sub('\"','', new_string)\n",
    "    new_string = ' '.join([contraction_mapping[t] if t in contraction_mapping else t for t in new_string.split(\" \")])    \n",
    "    new_string = re.sub(r\"'s\\b\",\"\",new_string)\n",
    "    new_string = re.sub(\"[^a-zA-Z]\", \" \", new_string) \n",
    "    new_string = re.sub('[m]{2,}', 'mm', new_string)\n",
    "    return new_string"
   ]
  },
  {
   "cell_type": "markdown",
   "id": "89af2e4d-3209-41d4-8158-cc94ea9a7109",
   "metadata": {},
   "source": [
    "### Aplicar undersampling a la clase mayoritaria"
   ]
  },
  {
   "cell_type": "code",
   "execution_count": 22,
   "id": "5fb00201-c34d-45e6-935f-c6a1f4586b11",
   "metadata": {},
   "outputs": [
    {
     "name": "stdout",
     "output_type": "stream",
     "text": [
      "label\n",
      "0.0    1224\n",
      "1.0    1224\n",
      "Name: count, dtype: int64\n"
     ]
    }
   ],
   "source": [
    "df_majority = df[df.label == 0.0]\n",
    "df_minority = df[df.label == 1.0]\n",
    "\n",
    "df_majority_undersampled = resample(df_majority, \n",
    "                                    replace=False,    \n",
    "                                    n_samples=len(df_minority),  \n",
    "                                    random_state=123) \n",
    "\n",
    "df = pd.concat([df_majority_undersampled, df_minority])\n",
    "print(df['label'].value_counts())\n"
   ]
  },
  {
   "cell_type": "code",
   "execution_count": 28,
   "id": "23358705-ab2b-4be8-9784-2a9c13b1778e",
   "metadata": {},
   "outputs": [
    {
     "data": {
      "image/png": "[encoded data removed]",
      "text/plain": [
       "<Figure size 640x480 with 1 Axes>"
      ]
     },
     "metadata": {},
     "output_type": "display_data"
    }
   ],
   "source": [
    "sns.barplot(x = df['label'].unique(), y = df['label'].value_counts())\n",
    "plt.show()"
   ]
  },
  {
   "cell_type": "code",
   "execution_count": null,
   "id": "f2c56a995dbc8872",
   "metadata": {
    "ExecuteTime": {
     "end_time": "2024-05-26T00:44:52.422130Z",
     "start_time": "2024-05-26T00:44:52.009397Z"
    },
    "collapsed": false,
    "jupyter": {
     "outputs_hidden": false
    }
   },
   "outputs": [],
   "source": [
    "df['cleaned'] = df[\"text\"].apply(text_cleaner)"
   ]
  },
  {
   "cell_type": "code",
   "execution_count": null,
   "id": "d57d61132fbda208",
   "metadata": {
    "ExecuteTime": {
     "end_time": "2024-05-26T00:45:52.390003Z",
     "start_time": "2024-05-26T00:45:47.883273Z"
    },
    "collapsed": false,
    "jupyter": {
     "outputs_hidden": false
    }
   },
   "outputs": [],
   "source": [
    "plt.rcParams['figure.figsize'] = 20,8\n",
    "word_cloud = \"\"\n",
    "for row in df['cleaned']:\n",
    "    for word in row:\n",
    "        word_cloud+=\" \".join(word)\n",
    "wordcloud = WordCloud(width = 1000, height = 500,background_color ='black',min_font_size = 6).generate(word_cloud)\n",
    "plt.imshow(wordcloud)"
   ]
  },
  {
   "cell_type": "code",
   "execution_count": null,
   "id": "2a3af52ddfdde994",
   "metadata": {
    "ExecuteTime": {
     "end_time": "2024-05-26T00:57:49.438842Z",
     "start_time": "2024-05-26T00:57:49.420021Z"
    },
    "collapsed": false,
    "jupyter": {
     "outputs_hidden": false
    }
   },
   "outputs": [],
   "source": [
    "text_0 = \" \".join(xx for xx in df.text[df.label==0])\n",
    "text_1 = \" \".join(xx for xx in df.text[df.label==1])"
   ]
  },
  {
   "cell_type": "code",
   "execution_count": null,
   "id": "dbd76fc96e886ba4",
   "metadata": {
    "ExecuteTime": {
     "end_time": "2024-05-26T00:58:21.304004Z",
     "start_time": "2024-05-26T00:58:20.535901Z"
    },
    "collapsed": false,
    "jupyter": {
     "outputs_hidden": false
    }
   },
   "outputs": [],
   "source": [
    "wordcloud = WordCloud( max_font_size=50, max_words=250,\n",
    "                      width = 600, height = 400,\n",
    "                      background_color='black').generate(text_0)\n",
    "plt.figure(figsize=(12,8))\n",
    "plt.title('WordCloud para label=0')\n",
    "plt.imshow(wordcloud, interpolation='bilinear')\n",
    "plt.axis('off')\n",
    "plt.show()"
   ]
  },
  {
   "cell_type": "code",
   "execution_count": null,
   "id": "7bed6d8f1e4e582a",
   "metadata": {
    "ExecuteTime": {
     "end_time": "2024-05-26T00:58:40.416135Z",
     "start_time": "2024-05-26T00:58:39.842095Z"
    },
    "collapsed": false,
    "jupyter": {
     "outputs_hidden": false
    }
   },
   "outputs": [],
   "source": [
    "wordcloud = WordCloud( max_font_size=50, max_words=250,\n",
    "                      width = 600, height = 400,\n",
    "                      background_color='black').generate(text_1)\n",
    "plt.figure(figsize=(12,8))\n",
    "plt.title('WordCloud para label=1')\n",
    "plt.imshow(wordcloud, interpolation='bilinear')\n",
    "plt.axis('off')\n",
    "plt.show()"
   ]
  },
  {
   "cell_type": "code",
   "execution_count": null,
   "id": "4615bcb12df3bb4b",
   "metadata": {
    "ExecuteTime": {
     "end_time": "2024-05-26T00:59:49.031084Z",
     "start_time": "2024-05-26T00:59:48.815100Z"
    },
    "collapsed": false,
    "jupyter": {
     "outputs_hidden": false
    }
   },
   "outputs": [],
   "source": [
    "all_nodep_words = []\n",
    "for sentence in df[df['label'] == 0]['text'].to_list():\n",
    "    for word in sentence.split():\n",
    "        all_nodep_words.append(word)\n",
    "\n",
    "dk = pd.DataFrame(Counter(all_nodep_words).most_common(25), columns= ['Word', 'Frequency'])\n",
    "\n",
    "sns.set_context('notebook', font_scale= 1.3)\n",
    "plt.figure(figsize=(18,8))\n",
    "sns.barplot(y=dk['Word'], x=dk['Frequency'])\n",
    "plt.title(\"Palabras mas usadas para casos no depresivos\")\n",
    "plt.xlabel(\"Frecuencia\")\n",
    "plt.ylabel(\"Palabras\")\n",
    "plt.show()"
   ]
  },
  {
   "cell_type": "markdown",
   "id": "9e5420455ef4a07f",
   "metadata": {
    "collapsed": false,
    "jupyter": {
     "outputs_hidden": false
    }
   },
   "source": [
    "# Creando los modelos"
   ]
  },
  {
   "cell_type": "code",
   "execution_count": null,
   "id": "634cbd55801656f",
   "metadata": {
    "ExecuteTime": {
     "end_time": "2024-05-26T01:00:38.836287Z",
     "start_time": "2024-05-26T01:00:38.709593Z"
    },
    "collapsed": false,
    "jupyter": {
     "outputs_hidden": false
    }
   },
   "outputs": [],
   "source": [
    "X = df.cleaned\n",
    "y = df.label"
   ]
  },
  {
   "cell_type": "code",
   "execution_count": null,
   "id": "f524e6f6246e806c",
   "metadata": {
    "ExecuteTime": {
     "end_time": "2024-05-26T01:01:22.457331Z",
     "start_time": "2024-05-26T01:01:22.430651Z"
    },
    "collapsed": false,
    "jupyter": {
     "outputs_hidden": false
    }
   },
   "outputs": [],
   "source": [
    "vect = CountVectorizer(max_features = 20000 , lowercase=False , ngram_range=(1,2))"
   ]
  },
  {
   "cell_type": "code",
   "execution_count": null,
   "id": "f403056e7820dd86",
   "metadata": {
    "ExecuteTime": {
     "end_time": "2024-05-26T01:01:33.185116Z",
     "start_time": "2024-05-26T01:01:32.944903Z"
    },
    "collapsed": false,
    "jupyter": {
     "outputs_hidden": false
    }
   },
   "outputs": [],
   "source": [
    "X_cv =vect.fit_transform(X).toarray()"
   ]
  },
  {
   "cell_type": "code",
   "execution_count": null,
   "id": "2c9043cc5b90b184",
   "metadata": {
    "ExecuteTime": {
     "end_time": "2024-05-26T01:01:53.384820Z",
     "start_time": "2024-05-26T01:01:53.146865Z"
    },
    "collapsed": false,
    "jupyter": {
     "outputs_hidden": false
    }
   },
   "outputs": [],
   "source": [
    "X_cv.shape"
   ]
  },
  {
   "cell_type": "code",
   "execution_count": null,
   "id": "4178727ab958aace",
   "metadata": {
    "ExecuteTime": {
     "end_time": "2024-05-26T01:02:03.438267Z",
     "start_time": "2024-05-26T01:02:02.389484Z"
    },
    "collapsed": false,
    "jupyter": {
     "outputs_hidden": false
    }
   },
   "outputs": [],
   "source": [
    "X_train,X_test,y_train,y_test = train_test_split(X_cv,y,test_size = 0.2,random_state = 1,stratify = y)"
   ]
  },
  {
   "cell_type": "code",
   "execution_count": null,
   "id": "199a7a6fb9a1a75b",
   "metadata": {
    "ExecuteTime": {
     "end_time": "2024-05-26T01:02:55.419718Z",
     "start_time": "2024-05-26T01:02:55.343285Z"
    },
    "collapsed": false,
    "jupyter": {
     "outputs_hidden": false
    }
   },
   "outputs": [],
   "source": [
    "def performance_eval(clf,X_test):\n",
    "    y_pred = clf.predict(X_test)\n",
    "    print(f'Accuracy : {accuracy_score(y_test,y_pred)}\\n')\n",
    "    print('   ------------ Classification Report -----------')\n",
    "    print(classification_report(y_test,y_pred))\n",
    "    print('   ------------ Confusion Matrix -------------- ')\n",
    "    sns.set(rc={'figure.figsize':(10,6)})\n",
    "    sns.heatmap(confusion_matrix(y_test,y_pred),annot = True,fmt = 'd')"
   ]
  },
  {
   "cell_type": "markdown",
   "id": "563b2d13120ba63d",
   "metadata": {
    "collapsed": false,
    "jupyter": {
     "outputs_hidden": false
    }
   },
   "source": [
    "## Regresion logistica"
   ]
  },
  {
   "cell_type": "code",
   "execution_count": null,
   "id": "d67e291141309061",
   "metadata": {
    "ExecuteTime": {
     "end_time": "2024-05-26T01:04:27.762962Z",
     "start_time": "2024-05-26T01:03:54.006664Z"
    },
    "collapsed": false,
    "jupyter": {
     "outputs_hidden": false
    }
   },
   "outputs": [],
   "source": [
    "clf_lr = LogisticRegression()\n",
    "clf_lr.fit(X_train, y_train)\n",
    "performance_eval(clf_lr,X_test)"
   ]
  },
  {
   "cell_type": "markdown",
   "id": "b49b591763c9e744",
   "metadata": {
    "collapsed": false,
    "jupyter": {
     "outputs_hidden": false
    }
   },
   "source": [
    "## Arbol de Decision"
   ]
  },
  {
   "cell_type": "code",
   "execution_count": null,
   "id": "92dabc9772fe598c",
   "metadata": {
    "ExecuteTime": {
     "end_time": "2024-05-26T01:07:08.986295Z",
     "start_time": "2024-05-26T01:05:49.030755Z"
    },
    "collapsed": false,
    "jupyter": {
     "outputs_hidden": false
    }
   },
   "outputs": [],
   "source": [
    "clf_dt = DecisionTreeClassifier()\n",
    "clf_dt.fit(X_train, y_train)\n",
    "performance_eval(clf_dt,X_test)"
   ]
  },
  {
   "cell_type": "markdown",
   "id": "b174703e96102ad1",
   "metadata": {
    "collapsed": false,
    "jupyter": {
     "outputs_hidden": false
    }
   },
   "source": [
    "## Support Vector Machine (SVM)"
   ]
  },
  {
   "cell_type": "code",
   "execution_count": null,
   "id": "4594d6afc005fa04",
   "metadata": {
    "ExecuteTime": {
     "end_time": "2024-05-26T01:27:20.225819Z",
     "start_time": "2024-05-26T01:07:40.779716Z"
    },
    "collapsed": false,
    "jupyter": {
     "outputs_hidden": false
    }
   },
   "outputs": [],
   "source": [
    "clf_svm = SVC()\n",
    "clf_svm.fit(X_train, y_train)\n",
    "performance_eval(clf_svm,X_test)"
   ]
  },
  {
   "cell_type": "markdown",
   "id": "b95e1553eedbaee9",
   "metadata": {
    "collapsed": false,
    "jupyter": {
     "outputs_hidden": false
    }
   },
   "source": [
    "## KNN"
   ]
  },
  {
   "cell_type": "code",
   "execution_count": null,
   "id": "2df930fcbec84f34",
   "metadata": {
    "ExecuteTime": {
     "end_time": "2024-05-26T01:28:02.145185Z",
     "start_time": "2024-05-26T01:27:53.270846Z"
    },
    "collapsed": false,
    "jupyter": {
     "outputs_hidden": false
    }
   },
   "outputs": [],
   "source": [
    "clf_knn = KNeighborsClassifier()\n",
    "clf_knn.fit(X_train, y_train)\n",
    "performance_eval(clf_knn,X_test)"
   ]
  },
  {
   "cell_type": "markdown",
   "id": "95f73b391100a0fa",
   "metadata": {
    "collapsed": false,
    "jupyter": {
     "outputs_hidden": false
    }
   },
   "source": [
    "## Random Forest"
   ]
  },
  {
   "cell_type": "code",
   "execution_count": null,
   "id": "e863134be073bf2",
   "metadata": {
    "ExecuteTime": {
     "end_time": "2024-05-26T01:27:53.271675Z",
     "start_time": "2024-05-26T01:27:19.403706Z"
    },
    "collapsed": false,
    "jupyter": {
     "outputs_hidden": false
    }
   },
   "outputs": [],
   "source": [
    "clf_rf = RandomForestClassifier()\n",
    "clf_rf.fit(X_train, y_train)\n",
    "performance_eval(clf_rf,X_test)"
   ]
  },
  {
   "cell_type": "code",
   "execution_count": null,
   "id": "355b2f169e485286",
   "metadata": {
    "ExecuteTime": {
     "end_time": "2024-05-26T01:36:06.596461Z",
     "start_time": "2024-05-26T01:28:35.273240Z"
    },
    "collapsed": false,
    "jupyter": {
     "outputs_hidden": false
    }
   },
   "outputs": [],
   "source": [
    "voting_clf = VotingClassifier(estimators=[('SVC', clf_svm),\n",
    "                                          ('LogReg', clf_lr),\n",
    "                                          ('RF', clf_rf),                                        \n",
    "                                          ('KNN',clf_knn),                                    \n",
    "                                          ('DT',clf_dt)\n",
    "                                         ],\n",
    "                              voting='hard'\n",
    "                             )\n",
    "voting_clf.fit(X_train, y_train)\n",
    "performance_eval(voting_clf,X_test)"
   ]
  },
  {
   "cell_type": "code",
   "execution_count": null,
   "id": "8d96c375dd285b4b",
   "metadata": {
    "ExecuteTime": {
     "end_time": "2024-05-26T01:39:45.144648Z",
     "start_time": "2024-05-26T01:39:45.012458Z"
    },
    "collapsed": false,
    "jupyter": {
     "outputs_hidden": false
    }
   },
   "outputs": [],
   "source": [
    "lr_model = LogisticRegression(class_weight='balanced', max_iter=400)\n",
    "dt_model = DecisionTreeClassifier(class_weight='balanced')\n",
    "rf_model = RandomForestClassifier(class_weight='balanced')\n",
    "svm_model = SVC(class_weight='balanced')\n",
    "knn_model = KNeighborsClassifier()\n",
    "model_names = ['Logistic Regression','Decision Tree', 'Random Forest', 'SVM', 'KNN']\n",
    "ml_models = [lr_model, dt_model, rf_model, svm_model, knn_model]"
   ]
  },
  {
   "cell_type": "code",
   "execution_count": null,
   "id": "c2d05ae06e1564dc",
   "metadata": {
    "ExecuteTime": {
     "end_time": "2024-05-26T01:44:27.181419Z",
     "start_time": "2024-05-26T01:39:47.347403Z"
    },
    "collapsed": false,
    "jupyter": {
     "outputs_hidden": false
    }
   },
   "outputs": [],
   "source": [
    "trained_ml_models = []\n",
    "def model_train(model, train_data, train_labels):\n",
    "    mf = model.fit(train_data,train_labels)\n",
    "    trained_ml_models.append(mf)\n",
    "# trained_ml_models = []\n",
    "for i in ml_models:\n",
    "    model_train(i,X_train, y_train)\n",
    "#     trained_ml_models.append(tt)"
   ]
  },
  {
   "cell_type": "code",
   "execution_count": null,
   "id": "1666d6f4a7507b2d",
   "metadata": {
    "ExecuteTime": {
     "end_time": "2024-05-26T01:51:41.389758Z",
     "start_time": "2024-05-26T01:49:42.691096Z"
    },
    "collapsed": false,
    "jupyter": {
     "outputs_hidden": false
    }
   },
   "outputs": [],
   "source": [
    "from sklearn.metrics import precision_score, recall_score, f1_score\n",
    "\n",
    "pr_list = []\n",
    "re_list = []\n",
    "f1_list = []\n",
    "\n",
    "def print_results(md, x_test, y_test, name):\n",
    "    #print(\"\\n\\nClassifier: \", name)\n",
    "    pred_y = md.predict(x_test)\n",
    "    true, pred = y_test, pred_y\n",
    "\n",
    "    pr_list.append((round(precision_score(y_test, pred_y, average='weighted'),4)*100)) \n",
    "    re_list.append((round(recall_score(y_test, pred_y, average='weighted'),4)*100))\n",
    "    f1_list.append((round(f1_score(y_test, pred_y, average='weighted'),4)*100))\n",
    "\n",
    "for i in range(len(trained_ml_models)):\n",
    "    md = trained_ml_models[i]\n",
    "    name = model_names[i]\n",
    "    print_results(md, X_test, y_test, name)\n",
    "\n",
    "performance_matrix = pd.DataFrame({'Precision':pr_list,\n",
    "                                   'Recall':re_list,'F1 Score':f1_list},\n",
    "                                  index =model_names)"
   ]
  },
  {
   "cell_type": "code",
   "execution_count": null,
   "id": "8d1b7b08e5f849a0",
   "metadata": {
    "ExecuteTime": {
     "end_time": "2024-05-26T01:53:51.349611Z",
     "start_time": "2024-05-26T01:53:51.210993Z"
    },
    "collapsed": false,
    "jupyter": {
     "outputs_hidden": false
    }
   },
   "outputs": [],
   "source": [
    "print(performance_matrix)"
   ]
  },
  {
   "cell_type": "code",
   "execution_count": null,
   "id": "3d66fcbf5fa1ba3d",
   "metadata": {
    "ExecuteTime": {
     "end_time": "2024-05-26T01:54:04.961503Z",
     "start_time": "2024-05-26T01:54:04.816660Z"
    },
    "collapsed": false,
    "jupyter": {
     "outputs_hidden": false
    }
   },
   "outputs": [],
   "source": [
    "data_matrix = pd.DataFrame({\n",
    "    'Model':model_names,'Precision':pr_list,\n",
    "                        'Recall':re_list,\n",
    "                        'F1 Score':f1_list,\n",
    "                      },\n",
    "                    )"
   ]
  },
  {
   "cell_type": "code",
   "execution_count": null,
   "id": "f836361f7ba5f7e2",
   "metadata": {
    "ExecuteTime": {
     "end_time": "2024-05-26T01:54:15.147071Z",
     "start_time": "2024-05-26T01:54:14.994021Z"
    },
    "collapsed": false,
    "jupyter": {
     "outputs_hidden": false
    }
   },
   "outputs": [],
   "source": [
    "print(data_matrix)"
   ]
  },
  {
   "cell_type": "code",
   "execution_count": null,
   "id": "e83b5c88c182ff5c",
   "metadata": {
    "ExecuteTime": {
     "end_time": "2024-05-26T01:54:33.283021Z",
     "start_time": "2024-05-26T01:54:33.076296Z"
    },
    "collapsed": false,
    "jupyter": {
     "outputs_hidden": false
    }
   },
   "outputs": [],
   "source": [
    "df_1 = pd.melt(data_matrix, id_vars=\"Model\", var_name=\"Category\", value_name=\"Values\")\n",
    "plt.figure(figsize=(12, 6))\n",
    "ax = plt.subplot()\n",
    "\n",
    "sns.barplot(data=df_1,x='Model', y='Values' ,hue='Category')\n",
    "ax.set_xlabel('Model') \n",
    "ax.set_title('Performance Evaluation')\n",
    "\n",
    "ax.xaxis.set_ticklabels(model_names, rotation=45);\n",
    "plt.show()"
   ]
  }
 ],
 "metadata": {
  "kernelspec": {
   "display_name": "Python 3 (ipykernel)",
   "language": "python",
   "name": "python3"
  },
  "language_info": {
   "codemirror_mode": {
    "name": "ipython",
    "version": 3
   },
   "file_extension": ".py",
   "mimetype": "text/x-python",
   "name": "python",
   "nbconvert_exporter": "python",
   "pygments_lexer": "ipython3",
   "version": "3.11.7"
  }
 },
 "nbformat": 4,
 "nbformat_minor": 5
}
